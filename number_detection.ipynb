{
  "nbformat": 4,
  "nbformat_minor": 0,
  "metadata": {
    "colab": {
      "provenance": [],
      "authorship_tag": "ABX9TyPmpLVQCEncGpFEyeNquPrM",
      "include_colab_link": true
    },
    "kernelspec": {
      "name": "python3",
      "display_name": "Python 3"
    },
    "language_info": {
      "name": "python"
    }
  },
  "cells": [
    {
      "cell_type": "markdown",
      "metadata": {
        "id": "view-in-github",
        "colab_type": "text"
      },
      "source": [
        "<a href=\"https://colab.research.google.com/github/ISHRAT-JAHAN-T/sql/blob/main/Untitled0.ipynb\" target=\"_parent\"><img src=\"https://colab.research.google.com/assets/colab-badge.svg\" alt=\"Open In Colab\"/></a>"
      ]
    },
    {
      "cell_type": "code",
      "execution_count": 50,
      "metadata": {
        "colab": {
          "base_uri": "https://localhost:8080/",
          "height": 645
        },
        "id": "haS1mvHkb9W5",
        "outputId": "67170c13-fc8b-423d-f1bb-2197f8177910"
      },
      "outputs": [
        {
          "output_type": "stream",
          "name": "stdout",
          "text": [
            "hellow world\n",
            "(28, 28)\n",
            "[5 0 4 ... 5 6 8]\n",
            "(60000, 28, 28)\n",
            "[[0 0 0 ... 0 0 0]\n",
            " [0 0 0 ... 0 0 0]\n",
            " [0 0 0 ... 0 0 0]\n",
            " ...\n",
            " [0 0 0 ... 0 0 0]\n",
            " [0 0 0 ... 0 0 0]\n",
            " [0 0 0 ... 0 0 0]]\n",
            "(60000, 784)\n"
          ]
        },
        {
          "output_type": "display_data",
          "data": {
            "text/plain": [
              "<Figure size 480x480 with 1 Axes>"
            ],
            "image/png": "[encoded data removed]"
          },
          "metadata": {}
        }
      ],
      "source": [
        "import tensorflow as tf \n",
        "\n",
        "from tensorflow import keras \n",
        "import matplotlib.pyplot as plt \n",
        "%matplotlib inline \n",
        "import numpy as np \n",
        "\n",
        "\n",
        "\n",
        "print(\"hellow world\") \n",
        "\n",
        "(x_train,y_train),(x_test,y_test)=keras.datasets.mnist.load_data() \n",
        "\n",
        "\n",
        "\n",
        "len(x_train)\n",
        "\n",
        "\n",
        "len(x_test)\n",
        "\n",
        "\n",
        "print(x_train[0].shape)\n",
        "\n",
        "#print(x_train[0])\n",
        "\n",
        "\n",
        "\n",
        "plt.matshow(x_train[10])\n",
        "\n",
        "\n",
        "print(y_train)\n",
        "\n",
        "print(x_train.shape)\n",
        "x_train_flattened=x_train.reshape(len(x_train),28*28)\n",
        "\n",
        "\n",
        "\n",
        "\n",
        "print(x_train_flattened)\n",
        "\n",
        "\n",
        "print(x_train_flattened.shape)\n",
        "\n",
        "\n"
      ]
    },
    {
      "cell_type": "code",
      "execution_count": 56,
      "metadata": {
        "colab": {
          "base_uri": "https://localhost:8080/",
          "height": 506
        },
        "outputId": "cd2a2010-0ee9-47e6-b9c5-4fbe579f58e1",
        "id": "9c0qpw3ugwkz"
      },
      "outputs": [
        {
          "output_type": "stream",
          "name": "stdout",
          "text": [
            "313/313 [==============================] - 1s 2ms/step\n",
            "[1.1958900e-02 2.9436154e-07 5.5683877e-02 9.4670290e-01 2.4464885e-03\n",
            " 1.2258942e-01 1.7035883e-06 9.9975330e-01 9.2960782e-02 6.6869777e-01]\n"
          ]
        },
        {
          "output_type": "execute_result",
          "data": {
            "text/plain": [
              "7"
            ]
          },
          "metadata": {},
          "execution_count": 56
        },
        {
          "output_type": "display_data",
          "data": {
            "text/plain": [
              "<Figure size 480x480 with 1 Axes>"
            ],
            "image/png": "[encoded data removed]"
          },
          "metadata": {}
        }
      ],
      "source": [
        "import tensorflow as tf \n",
        "\n",
        "from tensorflow import keras \n",
        "import matplotlib.pyplot as plt \n",
        "%matplotlib inline \n",
        "import numpy as np \n",
        "\n",
        "\n",
        "\n",
        "print(\"hellow world\") \n",
        "\n",
        "(x_train,y_train),(x_test,y_test)=keras.datasets.mnist.load_data() \n",
        "\n",
        "\n",
        "\n",
        "len(x_train)\n",
        "\n",
        "\n",
        "len(x_test)\n",
        "\n",
        "\n",
        "x_train=x_train/255 \n",
        "x_test=x_test/255\n",
        "\n",
        "\n",
        "print(x_train[0].shape)\n",
        "\n",
        "#print(x_train[0])\n",
        "\n",
        "\n",
        "\n",
        "plt.matshow(x_train[10])\n",
        "\n",
        "\n",
        "print(y_train)\n",
        "\n",
        "print(x_train.shape)\n",
        "\n",
        "x_train_flattened=x_train.reshape(len(x_train),28*28)\n",
        "\n",
        "x_test_flattened=x_test.reshape(len(x_test),28*28)\n",
        "\n",
        "#print(x_train_flattened)\n",
        "\n",
        "\n",
        "print(x_train_flattened.shape)\n",
        "\n",
        "print(x_test_flattened.shape)\n",
        "x_train_flattened[0]\n",
        "print(\"hellow world\")\n",
        "x_train_flattened[1]\n",
        "\n",
        "\n",
        "#sequentioal model add here \n",
        "\n",
        "model=keras.Sequential([\n",
        "    \n",
        "  keras.layers.Dense(10,input_shape=(784,),activation ='sigmoid')\n",
        "\n",
        "\n",
        "\n",
        "])\n",
        "\n",
        "model.compile(\n",
        "    \n",
        "\n",
        "    optimizer='adam',\n",
        "    loss='sparse_categorical_crossentropy',\n",
        "    metrics=['accuracy']\n",
        "\n",
        ")\n",
        "model.fit(x_train_flattened,y_train,epochs=5)\n",
        "\n",
        "\n",
        "model.evaluate(x_test_flattened,y_test)\n",
        "\n",
        "\n",
        "\n",
        "\n",
        "#predecit value \n",
        "\n",
        "plt.matshow(x_test[0]) \n",
        "\n",
        "\n",
        "y_predicted=model.predict(x_test_flattened)\n",
        "print(y_predicted[0])\n",
        "\n",
        "np.argmax(y_predicted[0])"
      ]
    }
  ]
}
